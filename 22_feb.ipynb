{
 "cells": [
  {
   "cell_type": "markdown",
   "id": "18560a33-d250-44a6-8e2a-c40709674db5",
   "metadata": {},
   "source": [
    "Q1. Create a Pandas Series that contains the following data: 4, 8, 15, 16, 23, and 42. Then, print the series."
   ]
  },
  {
   "cell_type": "code",
   "execution_count": 2,
   "id": "a7f87942-7c5f-41a8-b6ef-1add73754933",
   "metadata": {},
   "outputs": [],
   "source": [
    "import pandas as pd"
   ]
  },
  {
   "cell_type": "code",
   "execution_count": 3,
   "id": "83360a39-6f49-4945-bea9-0dfce71cfc8a",
   "metadata": {},
   "outputs": [],
   "source": [
    "data = [4,8,15,16,23,42]\n",
    "series = pd.Series(data)"
   ]
  },
  {
   "cell_type": "code",
   "execution_count": 5,
   "id": "f0bb3949-fde9-4f30-9ea3-58549da0bec0",
   "metadata": {},
   "outputs": [
    {
     "name": "stdout",
     "output_type": "stream",
     "text": [
      "0     4\n",
      "1     8\n",
      "2    15\n",
      "3    16\n",
      "4    23\n",
      "5    42\n",
      "dtype: int64\n"
     ]
    }
   ],
   "source": [
    "print(series)"
   ]
  },
  {
   "cell_type": "markdown",
   "id": "418a85d6-b74f-4673-9d6f-80ece905bc41",
   "metadata": {},
   "source": [
    "Q2. Create a variable of list type containing 10 elements in it, and apply pandas.Series function on the\n",
    "variable print it."
   ]
  },
  {
   "cell_type": "code",
   "execution_count": 7,
   "id": "12c7fca9-b1a8-44f5-a0d9-a3a37989fdd8",
   "metadata": {},
   "outputs": [
    {
     "name": "stdout",
     "output_type": "stream",
     "text": [
      "0    {'A': 23}\n",
      "1            B\n",
      "2            C\n",
      "3            D\n",
      "4            E\n",
      "5            F\n",
      "6            G\n",
      "7            H\n",
      "8            I\n",
      "9            J\n",
      "dtype: object\n"
     ]
    }
   ],
   "source": [
    "variable = [{'A':23}, 'B', 'C', 'D','E','F', 'G', 'H', 'I', 'J']\n",
    "var = pd.Series(variable)\n",
    "print(var)"
   ]
  },
  {
   "cell_type": "markdown",
   "id": "6bb93c90-8a69-4dc8-a1a8-eae367a5c5f1",
   "metadata": {},
   "source": [
    "Q3. Create a Pandas DataFrame that contains the following data:"
   ]
  },
  {
   "cell_type": "code",
   "execution_count": 17,
   "id": "6fa57ea2-4bd0-43df-935e-53261e0a7312",
   "metadata": {},
   "outputs": [
    {
     "name": "stdout",
     "output_type": "stream",
     "text": [
      "      Name  Age           City\n",
      "0    Alice   25       New York\n",
      "1      Bob   30  San Francisco\n",
      "2  Charlie   27    Los Angeles\n"
     ]
    }
   ],
   "source": [
    "\n",
    "names = ['Alice', 'Bob', 'Charlie']\n",
    "ages = [25, 30, 27]\n",
    "Gender =  ['Female', 'Male', 'Female']\n",
    "\n",
    "df = pd.DataFrame({\n",
    "    'Name': names,\n",
    "    'Age': ages,\n",
    "    'City': cities\n",
    "})\n",
    "\n",
    "print(df)\n"
   ]
  },
  {
   "cell_type": "markdown",
   "id": "ab491844-c0b4-4626-9567-c41093d5b66a",
   "metadata": {},
   "source": [
    "Q4. What is ‘DataFrame’ in pandas and how is it different from pandas.series? Explain with an example."
   ]
  },
  {
   "cell_type": "markdown",
   "id": "e1011f51-9e43-4055-8056-6581453b7da7",
   "metadata": {},
   "source": [
    "Answer = In Pandas, a DataFrame is a two-dimensional, tabular data structure that is used to store and manipulate data. It consists of rows and columns, where each column can be of a different data type. Essentially, a DataFrame is a collection of Pandas Series, where each column is a Series. It provides a convenient way to organize and analyze structured data.\n",
    "\n",
    "On the other hand, a Pandas Series is a one-dimensional labeled array that can hold any data type. It is like a single column of a DataFrame. A DataFrame can be thought of as a container for multiple Series"
   ]
  },
  {
   "cell_type": "code",
   "execution_count": 19,
   "id": "4fa724bc-171d-4098-b7ca-0fe1d1d9e8da",
   "metadata": {},
   "outputs": [
    {
     "name": "stdout",
     "output_type": "stream",
     "text": [
      "0    23\n",
      "1    45\n",
      "2    56\n",
      "3    36\n",
      "4    45\n",
      "5    27\n",
      "6    12\n",
      "dtype: int64\n"
     ]
    }
   ],
   "source": [
    "# Pandas series\n",
    "Roll_numbers = [23, 45, 56, 36, 45, 27, 12]\n",
    "Rn = pd.Series(Roll_numbers)\n",
    "print(Rn)"
   ]
  },
  {
   "cell_type": "code",
   "execution_count": 20,
   "id": "9f58a5c5-61f5-4ee2-a3b6-8d98ca734ecb",
   "metadata": {},
   "outputs": [
    {
     "name": "stdout",
     "output_type": "stream",
     "text": [
      "       name Coach  Seat\n",
      "0  Siddhant    A1    23\n",
      "1     Rohit    S8    56\n",
      "2     Manju    B9    45\n"
     ]
    }
   ],
   "source": [
    "# Data Frame\n",
    "Name = ['Siddhant', 'Rohit', 'Manju']\n",
    "Coach_number = [ 'A1', 'S8', 'B9']\n",
    "Seat_number = [23,56, 45]\n",
    "\n",
    "df1 = pd.DataFrame({\n",
    "    'name': Name,\n",
    "    'Coach':Coach_number,\n",
    "    'Seat': Seat_number\n",
    "})\n",
    "print(df1)"
   ]
  },
  {
   "cell_type": "markdown",
   "id": "627f7d4e-df0d-4271-ab07-eda9f8652e4c",
   "metadata": {},
   "source": [
    "Q5. What are some common functions you can use to manipulate data in a Pandas DataFrame? Can\n",
    "you give an example of when you might use one of these functions?"
   ]
  },
  {
   "cell_type": "markdown",
   "id": "4d0e93cd-16d1-42d4-8493-f51deb6780f1",
   "metadata": {},
   "source": [
    "There are many functions, which can be useto manipulate data in a Pandas such as\n",
    "head, tail, sort, apply, merge etc."
   ]
  },
  {
   "cell_type": "code",
   "execution_count": 21,
   "id": "a060b18a-ae0e-4e08-8205-bdde1928a36f",
   "metadata": {},
   "outputs": [
    {
     "name": "stdout",
     "output_type": "stream",
     "text": [
      "       name Coach  Seat\n",
      "0  Siddhant    A1    23\n",
      "1     Rohit    S8    56\n",
      "2     Manju    B9    45\n"
     ]
    }
   ],
   "source": [
    "Name = ['Siddhant', 'Rohit', 'Manju']\n",
    "Coach_number = [ 'A1', 'S8', 'B9']\n",
    "Seat_number = [23,56, 45]\n",
    "\n",
    "df1 = pd.DataFrame({\n",
    "    'name': Name,\n",
    "    'Coach':Coach_number,\n",
    "    'Seat': Seat_number\n",
    "})\n",
    "print(df1)"
   ]
  },
  {
   "cell_type": "code",
   "execution_count": 22,
   "id": "cbff0d2a-440e-4c8b-88a0-4d6b910536d7",
   "metadata": {},
   "outputs": [
    {
     "data": {
      "text/html": [
       "<div>\n",
       "<style scoped>\n",
       "    .dataframe tbody tr th:only-of-type {\n",
       "        vertical-align: middle;\n",
       "    }\n",
       "\n",
       "    .dataframe tbody tr th {\n",
       "        vertical-align: top;\n",
       "    }\n",
       "\n",
       "    .dataframe thead th {\n",
       "        text-align: right;\n",
       "    }\n",
       "</style>\n",
       "<table border=\"1\" class=\"dataframe\">\n",
       "  <thead>\n",
       "    <tr style=\"text-align: right;\">\n",
       "      <th></th>\n",
       "      <th>name</th>\n",
       "      <th>Coach</th>\n",
       "      <th>Seat</th>\n",
       "    </tr>\n",
       "  </thead>\n",
       "  <tbody>\n",
       "    <tr>\n",
       "      <th>0</th>\n",
       "      <td>Siddhant</td>\n",
       "      <td>A1</td>\n",
       "      <td>23</td>\n",
       "    </tr>\n",
       "    <tr>\n",
       "      <th>1</th>\n",
       "      <td>Rohit</td>\n",
       "      <td>S8</td>\n",
       "      <td>56</td>\n",
       "    </tr>\n",
       "    <tr>\n",
       "      <th>2</th>\n",
       "      <td>Manju</td>\n",
       "      <td>B9</td>\n",
       "      <td>45</td>\n",
       "    </tr>\n",
       "  </tbody>\n",
       "</table>\n",
       "</div>"
      ],
      "text/plain": [
       "       name Coach  Seat\n",
       "0  Siddhant    A1    23\n",
       "1     Rohit    S8    56\n",
       "2     Manju    B9    45"
      ]
     },
     "execution_count": 22,
     "metadata": {},
     "output_type": "execute_result"
    }
   ],
   "source": [
    "df1.head()"
   ]
  },
  {
   "cell_type": "code",
   "execution_count": 23,
   "id": "d386bee0-45d9-4899-aabf-ea91b377bfd0",
   "metadata": {},
   "outputs": [
    {
     "data": {
      "text/html": [
       "<div>\n",
       "<style scoped>\n",
       "    .dataframe tbody tr th:only-of-type {\n",
       "        vertical-align: middle;\n",
       "    }\n",
       "\n",
       "    .dataframe tbody tr th {\n",
       "        vertical-align: top;\n",
       "    }\n",
       "\n",
       "    .dataframe thead th {\n",
       "        text-align: right;\n",
       "    }\n",
       "</style>\n",
       "<table border=\"1\" class=\"dataframe\">\n",
       "  <thead>\n",
       "    <tr style=\"text-align: right;\">\n",
       "      <th></th>\n",
       "      <th>name</th>\n",
       "      <th>Coach</th>\n",
       "      <th>Seat</th>\n",
       "    </tr>\n",
       "  </thead>\n",
       "  <tbody>\n",
       "    <tr>\n",
       "      <th>0</th>\n",
       "      <td>Siddhant</td>\n",
       "      <td>A1</td>\n",
       "      <td>23</td>\n",
       "    </tr>\n",
       "    <tr>\n",
       "      <th>1</th>\n",
       "      <td>Rohit</td>\n",
       "      <td>S8</td>\n",
       "      <td>56</td>\n",
       "    </tr>\n",
       "    <tr>\n",
       "      <th>2</th>\n",
       "      <td>Manju</td>\n",
       "      <td>B9</td>\n",
       "      <td>45</td>\n",
       "    </tr>\n",
       "  </tbody>\n",
       "</table>\n",
       "</div>"
      ],
      "text/plain": [
       "       name Coach  Seat\n",
       "0  Siddhant    A1    23\n",
       "1     Rohit    S8    56\n",
       "2     Manju    B9    45"
      ]
     },
     "execution_count": 23,
     "metadata": {},
     "output_type": "execute_result"
    }
   ],
   "source": [
    "df1.tail()"
   ]
  },
  {
   "cell_type": "markdown",
   "id": "d0f516fd-c878-41d8-972d-c1a33d9f3bcc",
   "metadata": {},
   "source": [
    "Q6. Which of the following is mutable in nature Series, DataFrame, Panel?"
   ]
  },
  {
   "cell_type": "markdown",
   "id": "23a68a8c-ba5a-4c21-9324-0efc534d7b34",
   "metadata": {},
   "source": [
    "In the context of pandas, a popular data manipulation library in Python, both Series and DataFrame are mutable, while Panel is considered deprecated and not recommended for use in recent versions of pandas.\n",
    "\n",
    "Series: A pandas Series is mutable, meaning you can modify its elements after it has been created.\n",
    "\n",
    "DataFrame: Similarly, a pandas DataFrame is also mutable. You can add, remove, or modify columns and rows in a DataFrame.\n",
    "\n",
    "Panel: While Panel was a data structure in earlier versions of pandas to handle three-dimensional data,  The recommended way to handle three-dimensional data is to use MultiIndex DataFrames.\n",
    "\n",
    "So, to summarize, Series and DataFrame are mutable, but Panel is not recommended for use in recent pandas versions."
   ]
  },
  {
   "cell_type": "markdown",
   "id": "bea71b5c-82b9-409d-81f8-469aab9e0f43",
   "metadata": {},
   "source": [
    "Q7. Create a DataFrame using multiple Series. Explain with an example."
   ]
  },
  {
   "cell_type": "code",
   "execution_count": 24,
   "id": "5659d3ee-0885-4695-ae50-a74a228ff3ae",
   "metadata": {},
   "outputs": [
    {
     "name": "stdout",
     "output_type": "stream",
     "text": [
      "       name Coach  Seat\n",
      "0  Siddhant    A1    23\n",
      "1     Rohit    S8    56\n",
      "2     Manju    B9    45\n"
     ]
    }
   ],
   "source": [
    "Name = ['Siddhant', 'Rohit', 'Manju']\n",
    "Coach_number = [ 'A1', 'S8', 'B9']\n",
    "Seat_number = [23,56, 45]\n",
    "\n",
    "df1 = pd.DataFrame({\n",
    "    'name': Name,\n",
    "    'Coach':Coach_number,\n",
    "    'Seat': Seat_number\n",
    "})\n",
    "print(df1)"
   ]
  },
  {
   "cell_type": "code",
   "execution_count": null,
   "id": "b49f4f18-0c8e-47a0-8481-2622d3b608da",
   "metadata": {},
   "outputs": [],
   "source": []
  },
  {
   "cell_type": "code",
   "execution_count": null,
   "id": "f4824a3a-5509-4b37-9e01-9cc299028c62",
   "metadata": {},
   "outputs": [],
   "source": []
  },
  {
   "cell_type": "code",
   "execution_count": null,
   "id": "7a46a5cb-a597-4711-93d6-98dc3ac2deb1",
   "metadata": {},
   "outputs": [],
   "source": []
  },
  {
   "cell_type": "code",
   "execution_count": null,
   "id": "3d3fff2e-ed9b-40e5-9d08-aec465fb1331",
   "metadata": {},
   "outputs": [],
   "source": []
  }
 ],
 "metadata": {
  "kernelspec": {
   "display_name": "Python 3 (ipykernel)",
   "language": "python",
   "name": "python3"
  },
  "language_info": {
   "codemirror_mode": {
    "name": "ipython",
    "version": 3
   },
   "file_extension": ".py",
   "mimetype": "text/x-python",
   "name": "python",
   "nbconvert_exporter": "python",
   "pygments_lexer": "ipython3",
   "version": "3.10.8"
  }
 },
 "nbformat": 4,
 "nbformat_minor": 5
}
